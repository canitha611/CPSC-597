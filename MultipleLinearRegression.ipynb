{
 "cells": [
  {
   "cell_type": "code",
   "execution_count": 2,
   "id": "5a665ac1",
   "metadata": {},
   "outputs": [
    {
     "data": {
      "text/html": [
       "<div>\n",
       "<style scoped>\n",
       "    .dataframe tbody tr th:only-of-type {\n",
       "        vertical-align: middle;\n",
       "    }\n",
       "\n",
       "    .dataframe tbody tr th {\n",
       "        vertical-align: top;\n",
       "    }\n",
       "\n",
       "    .dataframe thead th {\n",
       "        text-align: right;\n",
       "    }\n",
       "</style>\n",
       "<table border=\"1\" class=\"dataframe\">\n",
       "  <thead>\n",
       "    <tr style=\"text-align: right;\">\n",
       "      <th></th>\n",
       "      <th>Year</th>\n",
       "      <th>State</th>\n",
       "      <th>CO2</th>\n",
       "      <th>Energy</th>\n",
       "      <th>EnergyPrice</th>\n",
       "    </tr>\n",
       "  </thead>\n",
       "  <tbody>\n",
       "    <tr>\n",
       "      <th>0</th>\n",
       "      <td>1970</td>\n",
       "      <td>Alabama</td>\n",
       "      <td>102.6</td>\n",
       "      <td>1393497</td>\n",
       "      <td>17490</td>\n",
       "    </tr>\n",
       "    <tr>\n",
       "      <th>1</th>\n",
       "      <td>1971</td>\n",
       "      <td>Alabama</td>\n",
       "      <td>98.5</td>\n",
       "      <td>1384940</td>\n",
       "      <td>17490</td>\n",
       "    </tr>\n",
       "    <tr>\n",
       "      <th>2</th>\n",
       "      <td>1972</td>\n",
       "      <td>Alabama</td>\n",
       "      <td>104.9</td>\n",
       "      <td>1478039</td>\n",
       "      <td>17490</td>\n",
       "    </tr>\n",
       "    <tr>\n",
       "      <th>3</th>\n",
       "      <td>1973</td>\n",
       "      <td>Alabama</td>\n",
       "      <td>109.6</td>\n",
       "      <td>1527209</td>\n",
       "      <td>17490</td>\n",
       "    </tr>\n",
       "    <tr>\n",
       "      <th>4</th>\n",
       "      <td>1974</td>\n",
       "      <td>Alabama</td>\n",
       "      <td>108.8</td>\n",
       "      <td>1547657</td>\n",
       "      <td>17490</td>\n",
       "    </tr>\n",
       "  </tbody>\n",
       "</table>\n",
       "</div>"
      ],
      "text/plain": [
       "   Year    State    CO2   Energy  EnergyPrice\n",
       "0  1970  Alabama  102.6  1393497        17490\n",
       "1  1971  Alabama   98.5  1384940        17490\n",
       "2  1972  Alabama  104.9  1478039        17490\n",
       "3  1973  Alabama  109.6  1527209        17490\n",
       "4  1974  Alabama  108.8  1547657        17490"
      ]
     },
     "execution_count": 2,
     "metadata": {},
     "output_type": "execute_result"
    }
   ],
   "source": [
    "import warnings\n",
    "warnings.filterwarnings('ignore')\n",
    "import pandas as pd\n",
    "import numpy as np\n",
    "import matplotlib.pyplot as plt\n",
    "\n",
    "co2emission = pd.read_csv(\"D:/Anitha/Graduate/Courses/GradProject/CPSC597/Data/MultipleLinearReg/CO2-Price.csv\")\n",
    "co2emission.head()\n"
   ]
  },
  {
   "cell_type": "code",
   "execution_count": 2,
   "id": "c20a4adc",
   "metadata": {},
   "outputs": [
    {
     "data": {
      "text/plain": [
       "Year           False\n",
       "State          False\n",
       "CO2            False\n",
       "Energy         False\n",
       "EnergyPrice    False\n",
       "dtype: bool"
      ]
     },
     "execution_count": 2,
     "metadata": {},
     "output_type": "execute_result"
    }
   ],
   "source": [
    "co2emission.isna().any()"
   ]
  },
  {
   "cell_type": "code",
   "execution_count": 3,
   "id": "aa3ed0a8",
   "metadata": {},
   "outputs": [
    {
     "name": "stdout",
     "output_type": "stream",
     "text": [
      "Coefficients:  [[ 5.30294502e-05 -1.70679433e-03]]\n",
      "Intercept:  [42.71286008]\n"
     ]
    }
   ],
   "source": [
    "data = np.random.rand(len(co2emission)) < 0.8\n",
    "train = co2emission[data]\n",
    "test = co2emission[~data]\n",
    "from sklearn import linear_model\n",
    "regr = linear_model.LinearRegression()\n",
    "train_x = np.asanyarray(train[['Energy','EnergyPrice']])\n",
    "train_y = np.asanyarray(train[['CO2']])\n",
    "regr.fit (train_x, train_y)\n",
    "# The coefficients\n",
    "print ('Coefficients: ', regr.coef_)\n",
    "print ('Intercept: ',regr.intercept_)"
   ]
  },
  {
   "cell_type": "code",
   "execution_count": 4,
   "id": "64efd340",
   "metadata": {},
   "outputs": [
    {
     "name": "stdout",
     "output_type": "stream",
     "text": [
      "Mean absolute error: 13.96\n",
      "Residual sum of squares (MSE): 390.66\n",
      "R2-score: 0.97\n",
      "Explained Variance score: 0.97\n"
     ]
    }
   ],
   "source": [
    "from sklearn.metrics import r2_score\n",
    "\n",
    "test_x = np.asanyarray(test[['Energy','EnergyPrice']])\n",
    "test_y = np.asanyarray(test[['CO2']])\n",
    "#predict CO2\n",
    "test_y_pred = regr.predict(test_x)\n",
    "print(\"Mean absolute error: %.2f\" % np.mean(np.absolute(test_y_pred - test_y)))\n",
    "print(\"Residual sum of squares (MSE): %.2f\" % np.mean((test_y_pred - test_y) ** 2))\n",
    "print(\"R2-score: %.2f\" % r2_score(test_y_pred , test_y) )\n",
    "# Explained variance score: 1 is perfect prediction\n",
    "print('Explained Variance score: %.2f' % regr.score(test_x, test_y))"
   ]
  },
  {
   "cell_type": "code",
   "execution_count": 5,
   "id": "2ced2407",
   "metadata": {},
   "outputs": [
    {
     "data": {
      "text/html": [
       "<div>\n",
       "<style scoped>\n",
       "    .dataframe tbody tr th:only-of-type {\n",
       "        vertical-align: middle;\n",
       "    }\n",
       "\n",
       "    .dataframe tbody tr th {\n",
       "        vertical-align: top;\n",
       "    }\n",
       "\n",
       "    .dataframe thead th {\n",
       "        text-align: right;\n",
       "    }\n",
       "</style>\n",
       "<table border=\"1\" class=\"dataframe\">\n",
       "  <thead>\n",
       "    <tr style=\"text-align: right;\">\n",
       "      <th></th>\n",
       "      <th>Actual</th>\n",
       "      <th>Predicted</th>\n",
       "    </tr>\n",
       "  </thead>\n",
       "  <tbody>\n",
       "    <tr>\n",
       "      <th>0</th>\n",
       "      <td>104.900000</td>\n",
       "      <td>91.240623</td>\n",
       "    </tr>\n",
       "    <tr>\n",
       "      <th>1</th>\n",
       "      <td>111.500000</td>\n",
       "      <td>100.294235</td>\n",
       "    </tr>\n",
       "    <tr>\n",
       "      <th>2</th>\n",
       "      <td>95.300000</td>\n",
       "      <td>94.770210</td>\n",
       "    </tr>\n",
       "    <tr>\n",
       "      <th>3</th>\n",
       "      <td>104.900000</td>\n",
       "      <td>100.451149</td>\n",
       "    </tr>\n",
       "    <tr>\n",
       "      <th>4</th>\n",
       "      <td>113.900000</td>\n",
       "      <td>101.686894</td>\n",
       "    </tr>\n",
       "    <tr>\n",
       "      <th>...</th>\n",
       "      <td>...</td>\n",
       "      <td>...</td>\n",
       "    </tr>\n",
       "    <tr>\n",
       "      <th>512</th>\n",
       "      <td>61.159496</td>\n",
       "      <td>39.185688</td>\n",
       "    </tr>\n",
       "    <tr>\n",
       "      <th>513</th>\n",
       "      <td>59.624835</td>\n",
       "      <td>38.847201</td>\n",
       "    </tr>\n",
       "    <tr>\n",
       "      <th>514</th>\n",
       "      <td>63.960496</td>\n",
       "      <td>39.152386</td>\n",
       "    </tr>\n",
       "    <tr>\n",
       "      <th>515</th>\n",
       "      <td>62.494167</td>\n",
       "      <td>40.093870</td>\n",
       "    </tr>\n",
       "    <tr>\n",
       "      <th>516</th>\n",
       "      <td>66.749171</td>\n",
       "      <td>46.059047</td>\n",
       "    </tr>\n",
       "  </tbody>\n",
       "</table>\n",
       "<p>517 rows × 2 columns</p>\n",
       "</div>"
      ],
      "text/plain": [
       "         Actual   Predicted\n",
       "0    104.900000   91.240623\n",
       "1    111.500000  100.294235\n",
       "2     95.300000   94.770210\n",
       "3    104.900000  100.451149\n",
       "4    113.900000  101.686894\n",
       "..          ...         ...\n",
       "512   61.159496   39.185688\n",
       "513   59.624835   38.847201\n",
       "514   63.960496   39.152386\n",
       "515   62.494167   40.093870\n",
       "516   66.749171   46.059047\n",
       "\n",
       "[517 rows x 2 columns]"
      ]
     },
     "execution_count": 5,
     "metadata": {},
     "output_type": "execute_result"
    }
   ],
   "source": [
    "df = pd.DataFrame({'Actual': test_y.flatten(), 'Predicted': test_y_pred.flatten()})\n",
    "df"
   ]
  },
  {
   "cell_type": "code",
   "execution_count": 9,
   "id": "52699431",
   "metadata": {},
   "outputs": [
    {
     "data": {
      "image/png": "[encoded data removed]",
      "text/plain": [
       "<Figure size 640x480 with 1 Axes>"
      ]
     },
     "metadata": {},
     "output_type": "display_data"
    }
   ],
   "source": [
    "plt.scatter(range(len(test_y)), test_y, color='blue')\n",
    "plt.scatter(range(len(test_y_pred)), test_y_pred, color='red')\n",
    "plt.show()"
   ]
  },
  {
   "cell_type": "code",
   "execution_count": null,
   "id": "01eb4efa",
   "metadata": {},
   "outputs": [],
   "source": []
  }
 ],
 "metadata": {
  "kernelspec": {
   "display_name": "Python 3 (ipykernel)",
   "language": "python",
   "name": "python3"
  },
  "language_info": {
   "codemirror_mode": {
    "name": "ipython",
    "version": 3
   },
   "file_extension": ".py",
   "mimetype": "text/x-python",
   "name": "python",
   "nbconvert_exporter": "python",
   "pygments_lexer": "ipython3",
   "version": "3.10.0"
  }
 },
 "nbformat": 4,
 "nbformat_minor": 5
}
