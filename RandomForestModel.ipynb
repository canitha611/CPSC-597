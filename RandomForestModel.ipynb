{
 "cells": [
  {
   "cell_type": "code",
   "execution_count": 22,
   "id": "c892027e",
   "metadata": {},
   "outputs": [
    {
     "data": {
      "text/html": [
       "<div>\n",
       "<style scoped>\n",
       "    .dataframe tbody tr th:only-of-type {\n",
       "        vertical-align: middle;\n",
       "    }\n",
       "\n",
       "    .dataframe tbody tr th {\n",
       "        vertical-align: top;\n",
       "    }\n",
       "\n",
       "    .dataframe thead th {\n",
       "        text-align: right;\n",
       "    }\n",
       "</style>\n",
       "<table border=\"1\" class=\"dataframe\">\n",
       "  <thead>\n",
       "    <tr style=\"text-align: right;\">\n",
       "      <th></th>\n",
       "      <th>Year</th>\n",
       "      <th>State</th>\n",
       "      <th>CO2</th>\n",
       "      <th>Energy</th>\n",
       "    </tr>\n",
       "  </thead>\n",
       "  <tbody>\n",
       "    <tr>\n",
       "      <th>0</th>\n",
       "      <td>1970</td>\n",
       "      <td>Alabama</td>\n",
       "      <td>102.6</td>\n",
       "      <td>1393497</td>\n",
       "    </tr>\n",
       "    <tr>\n",
       "      <th>1</th>\n",
       "      <td>1971</td>\n",
       "      <td>Alabama</td>\n",
       "      <td>98.5</td>\n",
       "      <td>1384940</td>\n",
       "    </tr>\n",
       "    <tr>\n",
       "      <th>2</th>\n",
       "      <td>1972</td>\n",
       "      <td>Alabama</td>\n",
       "      <td>104.9</td>\n",
       "      <td>1478039</td>\n",
       "    </tr>\n",
       "    <tr>\n",
       "      <th>3</th>\n",
       "      <td>1973</td>\n",
       "      <td>Alabama</td>\n",
       "      <td>109.6</td>\n",
       "      <td>1527209</td>\n",
       "    </tr>\n",
       "    <tr>\n",
       "      <th>4</th>\n",
       "      <td>1974</td>\n",
       "      <td>Alabama</td>\n",
       "      <td>108.8</td>\n",
       "      <td>1547657</td>\n",
       "    </tr>\n",
       "  </tbody>\n",
       "</table>\n",
       "</div>"
      ],
      "text/plain": [
       "   Year    State    CO2   Energy\n",
       "0  1970  Alabama  102.6  1393497\n",
       "1  1971  Alabama   98.5  1384940\n",
       "2  1972  Alabama  104.9  1478039\n",
       "3  1973  Alabama  109.6  1527209\n",
       "4  1974  Alabama  108.8  1547657"
      ]
     },
     "execution_count": 22,
     "metadata": {},
     "output_type": "execute_result"
    }
   ],
   "source": [
    "import numpy as np\n",
    "import matplotlib.pyplot as plt\n",
    "import pandas as pd\n",
    "\n",
    "randomforestco2 = pd.read_csv(\"D:/Anitha/Graduate/Courses/GradProject/CPSC597/Data/Data1/CO2History.csv\")\n",
    "x = randomforestco2['Energy'].values\n",
    "y = randomforestco2['CO2'].values\n",
    "randomforestco2.head(5)\n"
   ]
  },
  {
   "cell_type": "code",
   "execution_count": 23,
   "id": "a5b68837",
   "metadata": {},
   "outputs": [
    {
     "data": {
      "text/html": [
       "<div>\n",
       "<style scoped>\n",
       "    .dataframe tbody tr th:only-of-type {\n",
       "        vertical-align: middle;\n",
       "    }\n",
       "\n",
       "    .dataframe tbody tr th {\n",
       "        vertical-align: top;\n",
       "    }\n",
       "\n",
       "    .dataframe thead th {\n",
       "        text-align: right;\n",
       "    }\n",
       "</style>\n",
       "<table border=\"1\" class=\"dataframe\">\n",
       "  <thead>\n",
       "    <tr style=\"text-align: right;\">\n",
       "      <th></th>\n",
       "      <th>Real Values</th>\n",
       "      <th>Predicted Values</th>\n",
       "    </tr>\n",
       "  </thead>\n",
       "  <tbody>\n",
       "    <tr>\n",
       "      <th>0</th>\n",
       "      <td>79.415277</td>\n",
       "      <td>91.561979</td>\n",
       "    </tr>\n",
       "    <tr>\n",
       "      <th>1</th>\n",
       "      <td>93.835982</td>\n",
       "      <td>113.557711</td>\n",
       "    </tr>\n",
       "    <tr>\n",
       "      <th>2</th>\n",
       "      <td>134.620520</td>\n",
       "      <td>78.903073</td>\n",
       "    </tr>\n",
       "    <tr>\n",
       "      <th>3</th>\n",
       "      <td>12.826134</td>\n",
       "      <td>10.178705</td>\n",
       "    </tr>\n",
       "    <tr>\n",
       "      <th>4</th>\n",
       "      <td>71.649881</td>\n",
       "      <td>97.919675</td>\n",
       "    </tr>\n",
       "    <tr>\n",
       "      <th>5</th>\n",
       "      <td>107.213105</td>\n",
       "      <td>103.627850</td>\n",
       "    </tr>\n",
       "    <tr>\n",
       "      <th>6</th>\n",
       "      <td>13.315964</td>\n",
       "      <td>27.148677</td>\n",
       "    </tr>\n",
       "    <tr>\n",
       "      <th>7</th>\n",
       "      <td>43.172468</td>\n",
       "      <td>13.976870</td>\n",
       "    </tr>\n",
       "    <tr>\n",
       "      <th>8</th>\n",
       "      <td>44.152426</td>\n",
       "      <td>14.534334</td>\n",
       "    </tr>\n",
       "    <tr>\n",
       "      <th>9</th>\n",
       "      <td>126.817384</td>\n",
       "      <td>95.412345</td>\n",
       "    </tr>\n",
       "  </tbody>\n",
       "</table>\n",
       "</div>"
      ],
      "text/plain": [
       "   Real Values  Predicted Values\n",
       "0    79.415277         91.561979\n",
       "1    93.835982        113.557711\n",
       "2   134.620520         78.903073\n",
       "3    12.826134         10.178705\n",
       "4    71.649881         97.919675\n",
       "5   107.213105        103.627850\n",
       "6    13.315964         27.148677\n",
       "7    43.172468         13.976870\n",
       "8    44.152426         14.534334\n",
       "9   126.817384         95.412345"
      ]
     },
     "execution_count": 23,
     "metadata": {},
     "output_type": "execute_result"
    }
   ],
   "source": [
    "# data = np.random.rand(len(randomforestco2)) < 0.8\n",
    "# train = randomforestco2[data]\n",
    "# test = randomforestco2[~data]\n",
    "# train_x = np.asanyarray(train[['Energy']])\n",
    "# train_y = np.asanyarray(train[['CO2']])\n",
    "\n",
    "from sklearn.model_selection import train_test_split\n",
    "from sklearn.metrics import mean_squared_error # for calculating the cost function\n",
    "x_train, x_test, y_train, y_test = train_test_split(x, y, test_size = 0.02)\n",
    "\n",
    "from sklearn.ensemble import RandomForestRegressor\n",
    "regressor = RandomForestRegressor(n_estimators = 10, random_state = 0)\n",
    "regressor.fit(x_train.reshape(-1,1), y_train.reshape(-1,1).ravel())\n",
    "y_pred = regressor.predict(x_test.reshape(-1,1))\n",
    "df = pd.DataFrame({'Real Values':y_test.reshape(-1), 'Predicted Values':y_pred.reshape(-1)})\n",
    "df.head(10)"
   ]
  },
  {
   "cell_type": "code",
   "execution_count": 24,
   "id": "01e08a12",
   "metadata": {},
   "outputs": [
    {
     "name": "stdout",
     "output_type": "stream",
     "text": [
      "\n",
      "RMSE:  21.396\n"
     ]
    }
   ],
   "source": [
    "rmse = float(format(np.sqrt(mean_squared_error(y_test, y_pred)), '.3f'))\n",
    "print(\"\\nRMSE: \", rmse)"
   ]
  },
  {
   "cell_type": "code",
   "execution_count": 6,
   "id": "1f31f062",
   "metadata": {},
   "outputs": [
    {
     "data": {
      "image/png": "[encoded data removed]",
      "text/plain": [
       "<Figure size 640x480 with 1 Axes>"
      ]
     },
     "metadata": {},
     "output_type": "display_data"
    }
   ],
   "source": [
    "# X_grid = np.arange(min(x), max(x), 0.01)\n",
    "# X_grid = X_grid.reshape((len(X_grid), 1))\n",
    "# plt.scatter(x_test, y_test, color = 'red')\n",
    "# plt.scatter(x_test, y_pred, color = 'green')\n",
    "# plt.title('Random Forest Regression')\n",
    "# plt.xlabel('Energy')\n",
    "# plt.ylabel('CO2')\n",
    "# plt.show()"
   ]
  },
  {
   "cell_type": "code",
   "execution_count": 21,
   "id": "811a8dba",
   "metadata": {},
   "outputs": [
    {
     "data": {
      "image/png": "[encoded data removed]",
      "text/plain": [
       "<Figure size 640x480 with 1 Axes>"
      ]
     },
     "metadata": {},
     "output_type": "display_data"
    }
   ],
   "source": [
    "X_grid = np.arange(min(x_test), max(x_test), 0.1)\n",
    "X_grid = X_grid.reshape((len(X_grid), 1))\n",
    "plt.scatter(x_test,y_test, color = 'red')\n",
    "plt.scatter(x_test, y_pred, color = 'green')\n",
    "plt.title('Random Forest Regression')\n",
    "plt.xlabel('Energy')\n",
    "plt.ylabel('CO2')\n",
    "plt.show()"
   ]
  },
  {
   "cell_type": "code",
   "execution_count": 13,
   "id": "3256904a",
   "metadata": {},
   "outputs": [],
   "source": [
    "# plt.plot(X_grid, regressor.predict(X_grid), color = 'black')\n",
    "# plt.title('Random Forest Regression')\n",
    "# plt.xlabel('Energy')\n",
    "# plt.ylabel('CO2')\n",
    "# plt.show()"
   ]
  },
  {
   "cell_type": "code",
   "execution_count": 25,
   "id": "9fbdbae3",
   "metadata": {},
   "outputs": [
    {
     "name": "stdout",
     "output_type": "stream",
     "text": [
      "done\n"
     ]
    }
   ],
   "source": [
    "# X_grid = np.arrange(min(x), max(x), 0.01) \n",
    "  \n",
    "# # reshape for reshaping the data into a len(X_grid)*1 array, \n",
    "# # i.e. to make a column out of the X_grid value                  \n",
    "# X_grid = X_grid.reshape((len(X_grid), 1))\n",
    "  \n",
    "# # Scatter plot for original data\n",
    "# plt.scatter(x, y, color = 'blue')  \n",
    "# X_grid = X_grid.reshape((len(X_grid), 1))\n",
    "  \n",
    "# # Scatter plot for original data\n",
    "# plt.scatter(x, y, color = 'blue')  \n",
    "  \n",
    "# # plot predicted data\n",
    "# plt.plot(X_grid, regressor.predict(X_grid), \n",
    "#          color = 'green') \n",
    "# plt.title('Random Forest Regression')\n",
    "# plt.xlabel('Position level')\n",
    "# plt.ylabel('Salary')\n",
    "# plt.show()\n",
    "print(\"done\")"
   ]
  },
  {
   "cell_type": "code",
   "execution_count": null,
   "id": "2d6a6f5a",
   "metadata": {},
   "outputs": [],
   "source": []
  }
 ],
 "metadata": {
  "kernelspec": {
   "display_name": "Python 3 (ipykernel)",
   "language": "python",
   "name": "python3"
  },
  "language_info": {
   "codemirror_mode": {
    "name": "ipython",
    "version": 3
   },
   "file_extension": ".py",
   "mimetype": "text/x-python",
   "name": "python",
   "nbconvert_exporter": "python",
   "pygments_lexer": "ipython3",
   "version": "3.10.0"
  }
 },
 "nbformat": 4,
 "nbformat_minor": 5
}
